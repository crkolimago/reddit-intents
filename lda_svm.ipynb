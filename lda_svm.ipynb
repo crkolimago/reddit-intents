{
 "cells": [
  {
   "cell_type": "code",
   "execution_count": 1,
   "metadata": {},
   "outputs": [],
   "source": [
    "import pandas as pd\n",
    "from sklearn.feature_extraction.text import CountVectorizer\n",
    "from sklearn.decomposition import LatentDirichletAllocation as LDA\n",
    "\n",
    "from pyLDAvis import sklearn as sklearn_lda\n",
    "import pyLDAvis\n",
    "\n",
    "import json"
   ]
  },
  {
   "cell_type": "code",
   "execution_count": 2,
   "metadata": {},
   "outputs": [],
   "source": [
    "from sklearn.model_selection import train_test_split\n",
    "from sklearn.feature_extraction.text import TfidfVectorizer\n",
    "from sklearn.svm import LinearSVC\n",
    "from sklearn.pipeline import Pipeline\n",
    "from sklearn.feature_selection import SelectFromModel\n",
    "from sklearn import metrics"
   ]
  },
  {
   "cell_type": "code",
   "execution_count": 3,
   "metadata": {},
   "outputs": [],
   "source": [
    "contractions = ['aren', 'can', 'couldn', 'don', 'didn', 'doesn', 'hadn', 'hasn', 'haven', 'isn', 'mustn', 'shan', 'shouldn',\n",
    "                'wasn', 'weren', 'wouldn', 't',\n",
    "               'he', 'i', 'she', 'they', 'we', 'you', 'd',\n",
    "               'he', 'here', 'how', 'it', 'let', 'that', 'there', 'what', 'when', 'where', 'who', 'why', 's',\n",
    "               'i', 'he', 'she', 'they', 'we', 'you', 'll',\n",
    "               'i', 'm',\n",
    "               'i', 'must', 'they', 'we', 'you', 've',\n",
    "               'they', 'we', 'you', 're']\n",
    "others = ['a', 'about', 'above', 'after', 'again', 'against', 'all', 'am', 'an', 'and', 'any', 'are', 'arent', 'as',\n",
    "              'at', 'be', 'because', 'been', 'before', 'being', 'below', 'between', 'both', 'but', 'by', 'cant', 'cannot', \n",
    "              'could', 'couldnt', 'did', 'didnt', 'do', 'does', 'doesnt', 'doing', 'dont', 'down', 'during', 'each', 'few',\n",
    "              'for', 'from', 'further', 'had', 'hadnt', 'has', 'hasnt', 'have', 'havent', 'having', 'he', 'hed', 'hes',\n",
    "              'her', 'here', 'heres', 'hers', 'herself', 'him', 'himself', 'his', 'how', 'hows', 'i', 'id', 'im', 'ive',\n",
    "              'if', 'in', 'into', 'is', 'isnt', 'it', 'its', 'itself', 'lets', 'me', 'more', 'most', 'mustnt', 'my', \n",
    "              'myself', 'no', 'nor', 'not', 'of', 'off', 'on', 'once', 'only', 'or', 'other', 'ought', 'our', 'ours',\n",
    "              'ourselves', 'out', 'over', 'own', 'same', 'shant', 'she', 'shes', 'should', 'shouldnt', 'so', 'some',\n",
    "              'such', 'than', 'that', 'thats', 'the', 'their', 'theirs', 'them', 'themselves', 'then', 'there',\n",
    "              'theres', 'these', 'they', 'theyd', 'theyll', 'theyre', 'theyve', 'this', 'those', 'through', 'to',\n",
    "              'too', 'under', 'until', 'up', 'very', 'was', 'wasnt', 'we', 'were', 'weve', 'were', 'werent', 'what',\n",
    "              'whats', 'when', 'whens', 'where', 'wheres', 'which', 'while', 'who', 'whos', 'whom', 'why', 'whys', 'with', \n",
    "              'wont', 'would', 'wouldnt', 'you', 'youd', 'youll', 'youre', 'youve', 'your', 'yours', 'yourself',\n",
    "              'yourselves', 'm', 'f', 'tl', 'dr', 'tldr']\n",
    "stop_words = list(set(contractions + others))"
   ]
  },
  {
   "cell_type": "code",
   "execution_count": 4,
   "metadata": {},
   "outputs": [],
   "source": [
    "# df = pd.read_pickle('wsb_text.pkl')\n",
    "df = pd.read_pickle('relationships_text.pkl')"
   ]
  },
  {
   "cell_type": "code",
   "execution_count": 5,
   "metadata": {},
   "outputs": [],
   "source": [
    "cv = CountVectorizer(stop_words=stop_words)\n",
    "word_counts = cv.fit_transform(df.text)\n",
    "words = cv.get_feature_names()"
   ]
  },
  {
   "cell_type": "code",
   "execution_count": 6,
   "metadata": {},
   "outputs": [],
   "source": [
    "def runLDA(N, filename):\n",
    "    lda = LDA(n_components=N, n_jobs=-1, random_state=42)\n",
    "    document_topic_distribution = lda.fit_transform(word_counts)\n",
    "    \n",
    "    n_top_words = 20\n",
    "    \n",
    "    with open(f\"results/{filename}_topics.txt\", \"a\") as outfile:\n",
    "        print(f'Number of topics: {N}', file=outfile)\n",
    "        for topic, comp in enumerate(lda.components_): \n",
    "            word_idx = np.argsort(comp)[::-1][:n_top_words]\n",
    "            topic_words = [words[i] for i in word_idx]\n",
    "            topic_weights = comp[word_idx] / np.linalg.norm(comp[word_idx])\n",
    "\n",
    "            print(f'Topic {topic}: {\" \".join(topic_words)} ({\" \".join([str(x)[0:5] for x in topic_weights])})', \n",
    "                  file=outfile)\n",
    "        print('', file=outfile)\n",
    "\n",
    "    df['topic'] = -1\n",
    "\n",
    "    for idx, document_topic in enumerate(document_topic_distribution):\n",
    "        df.loc[idx, 'topic'] = document_topic.argmax()\n",
    "        \n",
    "    df.topic.to_json(f'results/{filename}_topics_{N}.json', orient='values')\n",
    "        \n",
    "    vectorizer = TfidfVectorizer(sublinear_tf=True)\n",
    "    X = vectorizer.fit_transform(df.text)\n",
    "    y = df.topic\n",
    "\n",
    "    X_train, X_test, y_train, y_test = train_test_split(X, y, test_size=0.2, stratify=y, random_state=42)\n",
    "        \n",
    "    classifier = Pipeline(\n",
    "        [('feature_selection', SelectFromModel(LinearSVC(penalty=\"l1\", dual=False,tol=1e-3))),\n",
    "         ('classification', LinearSVC(penalty=\"l2\"))])\n",
    "    \n",
    "    classifier.fit(X_train, y_train)\n",
    "    pred = classifier.predict(X_test)\n",
    "    \n",
    "    with open(f\"results/{filename}_topics.txt\", \"a\") as outfile:\n",
    "        print(metrics.classification_report(y_test, pred), file=outfile)"
   ]
  },
  {
   "cell_type": "code",
   "execution_count": null,
   "metadata": {},
   "outputs": [],
   "source": [
    "for i in range(5, 30, 5):\n",
    "    runLDA(i, 'relationships')"
   ]
  },
  {
   "cell_type": "code",
   "execution_count": 7,
   "metadata": {},
   "outputs": [
    {
     "name": "stderr",
     "output_type": "stream",
     "text": [
      "/home/chris/.local/lib/python3.8/site-packages/sklearn/svm/_base.py:985: ConvergenceWarning: Liblinear failed to converge, increase the number of iterations.\n",
      "  warnings.warn(\"Liblinear failed to converge, increase \"\n",
      "/home/chris/.local/lib/python3.8/site-packages/sklearn/svm/_base.py:985: ConvergenceWarning: Liblinear failed to converge, increase the number of iterations.\n",
      "  warnings.warn(\"Liblinear failed to converge, increase \"\n",
      "/home/chris/.local/lib/python3.8/site-packages/sklearn/svm/_base.py:985: ConvergenceWarning: Liblinear failed to converge, increase the number of iterations.\n",
      "  warnings.warn(\"Liblinear failed to converge, increase \"\n"
     ]
    }
   ],
   "source": [
    "for i in range(2, 10, 2):\n",
    "    runLDA(i, 'relationships')"
   ]
  }
 ],
 "metadata": {
  "kernelspec": {
   "display_name": "Python 3",
   "language": "python",
   "name": "python3"
  },
  "language_info": {
   "codemirror_mode": {
    "name": "ipython",
    "version": 3
   },
   "file_extension": ".py",
   "mimetype": "text/x-python",
   "name": "python",
   "nbconvert_exporter": "python",
   "pygments_lexer": "ipython3",
   "version": "3.8.5"
  },
  "varInspector": {
   "cols": {
    "lenName": 16,
    "lenType": 16,
    "lenVar": 40
   },
   "kernels_config": {
    "python": {
     "delete_cmd_postfix": "",
     "delete_cmd_prefix": "del ",
     "library": "var_list.py",
     "varRefreshCmd": "print(var_dic_list())"
    },
    "r": {
     "delete_cmd_postfix": ") ",
     "delete_cmd_prefix": "rm(",
     "library": "var_list.r",
     "varRefreshCmd": "cat(var_dic_list()) "
    }
   },
   "types_to_exclude": [
    "module",
    "function",
    "builtin_function_or_method",
    "instance",
    "_Feature"
   ],
   "window_display": false
  }
 },
 "nbformat": 4,
 "nbformat_minor": 4
}
