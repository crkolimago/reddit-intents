{
 "cells": [
  {
   "cell_type": "code",
   "execution_count": 1,
   "metadata": {},
   "outputs": [],
   "source": [
    "import pandas as pd\n",
    "import numpy as np\n",
    "\n",
    "from unidecode import unidecode\n",
    "import redditcleaner\n",
    "import re\n",
    "\n",
    "from collections import defaultdict"
   ]
  },
  {
   "cell_type": "code",
   "execution_count": 64,
   "metadata": {},
   "outputs": [],
   "source": [
    "def clean_text(s):\n",
    "    \"\"\" Basic preprocessing: encode characters, remove markdown, and remove links \"\"\"\n",
    "    s = unidecode(s)\n",
    "    s = redditcleaner.clean(s)\n",
    "    s = re.sub(r'https?://\\S+', '', s)\n",
    "    s = s.replace('&amp;', 'and')\n",
    "    \n",
    "    return s\n",
    "\n",
    "def process_data(df):\n",
    "    print('Number of rows:', len(df))\n",
    "    \n",
    "    df = df[df['selftext'] != '']\n",
    "    df = df[df['selftext'] != 'NaN']\n",
    "    df = df[df['selftext'] != '[deleted]']\n",
    "    df = df[df['selftext'] != '[removed]']\n",
    "    if ('stickied' in df):\n",
    "        df = df[df['stickied'] == False]\n",
    "    if 'distinguished' in df:\n",
    "        df = df[df.distinguished != 'moderator']\n",
    "\n",
    "    df = df[['title', 'selftext']]\n",
    "    print('Number of posts:', len(df))\n",
    "    \n",
    "    df.selftext = df.selftext.apply(clean_text)\n",
    "    df = df[df.selftext != '']\n",
    "    df = df.reset_index(drop=True)\n",
    "    print('Number of cleaned posts:', len(df))\n",
    "    \n",
    "    df['text'] = df.title + ' ' + df.selftext\n",
    "    df = df.drop(['title', 'selftext'], axis=1)\n",
    "    \n",
    "    return df"
   ]
  },
  {
   "cell_type": "code",
   "execution_count": 65,
   "metadata": {},
   "outputs": [
    {
     "name": "stdout",
     "output_type": "stream",
     "text": [
      "Number of rows: 445504\n",
      "Number of posts: 93034\n",
      "Number of cleaned posts: 93029\n"
     ]
    }
   ],
   "source": [
    "df = pd.read_pickle('relationships_raw.pkl')\n",
    "df = process_data(df)\n",
    "df.to_pickle('relationships_text.pkl')"
   ]
  },
  {
   "cell_type": "code",
   "execution_count": 76,
   "metadata": {},
   "outputs": [
    {
     "name": "stdout",
     "output_type": "stream",
     "text": [
      "Number of rows: 504752\n",
      "Number of posts: 46648\n",
      "Number of cleaned posts: 45860\n"
     ]
    }
   ],
   "source": [
    "df = pd.read_pickle('wsb_raw.pkl')\n",
    "df = process_data(df)\n",
    "df.to_pickle('wsb_text.pkl')"
   ]
  }
 ],
 "metadata": {
  "kernelspec": {
   "display_name": "Python 3",
   "language": "python",
   "name": "python3"
  },
  "language_info": {
   "codemirror_mode": {
    "name": "ipython",
    "version": 3
   },
   "file_extension": ".py",
   "mimetype": "text/x-python",
   "name": "python",
   "nbconvert_exporter": "python",
   "pygments_lexer": "ipython3",
   "version": "3.8.5"
  },
  "varInspector": {
   "cols": {
    "lenName": 16,
    "lenType": 16,
    "lenVar": 40
   },
   "kernels_config": {
    "python": {
     "delete_cmd_postfix": "",
     "delete_cmd_prefix": "del ",
     "library": "var_list.py",
     "varRefreshCmd": "print(var_dic_list())"
    },
    "r": {
     "delete_cmd_postfix": ") ",
     "delete_cmd_prefix": "rm(",
     "library": "var_list.r",
     "varRefreshCmd": "cat(var_dic_list()) "
    }
   },
   "types_to_exclude": [
    "module",
    "function",
    "builtin_function_or_method",
    "instance",
    "_Feature"
   ],
   "window_display": false
  }
 },
 "nbformat": 4,
 "nbformat_minor": 4
}
